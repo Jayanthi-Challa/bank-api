{
 "cells": [
  {
   "cell_type": "code",
   "execution_count": null,
   "id": "e27e24d2",
   "metadata": {},
   "outputs": [],
   "source": [
    "# tests/test_rest.py\n",
    "import os\n",
    "import tempfile\n",
    "import pytest\n",
    "from fastapi.testclient import TestClient\n",
    "from app.main import app\n",
    "from app.database import Base, engine, SessionLocal\n",
    "from app import models\n",
    "\n",
    "client = TestClient(app)\n",
    "\n",
    "@pytest.fixture(scope=\"module\", autouse=True)\n",
    "def setup_db():\n",
    "    # Use the same sqlite for simplicity; ensure DB is created\n",
    "    Base.metadata.create_all(bind=engine)\n",
    "    # create a sample bank and branch if none present\n",
    "    db = SessionLocal()\n",
    "    if not db.query(models.Bank).first():\n",
    "        bank = models.Bank(name=\"Test Bank\")\n",
    "        db.add(bank); db.commit(); db.refresh(bank)\n",
    "        branch = models.Branch(ifsc=\"TEST0001\", branch=\"Main\", city=\"Hyderabad\", state=\"Telangana\", bank_id_fk=bank.id)\n",
    "        db.add(branch); db.commit()\n",
    "    db.close()\n",
    "    yield\n",
    "    # no teardown for now\n",
    "\n",
    "def test_get_banks():\n",
    "    res = client.get(\"/banks\")\n",
    "    assert res.status_code == 200\n",
    "    data = res.json()\n",
    "    assert isinstance(data, list)\n",
    "    assert any(b.get(\"name\") == \"Test Bank\" for b in data)\n",
    "\n",
    "def test_get_branch_by_ifsc():\n",
    "    res = client.get(\"/branches/TEST0001\")\n",
    "    assert res.status_code == 200\n",
    "    data = res.json()\n",
    "    assert data[\"ifsc\"] == \"TEST0001\"\n",
    "    assert data[\"bank\"][\"name\"] == \"Test Bank\""
   ]
  }
 ],
 "metadata": {
  "kernelspec": {
   "display_name": "Python 3 (ipykernel)",
   "language": "python",
   "name": "python3"
  },
  "language_info": {
   "codemirror_mode": {
    "name": "ipython",
    "version": 3
   },
   "file_extension": ".py",
   "mimetype": "text/x-python",
   "name": "python",
   "nbconvert_exporter": "python",
   "pygments_lexer": "ipython3",
   "version": "3.11.0"
  }
 },
 "nbformat": 4,
 "nbformat_minor": 5
}
