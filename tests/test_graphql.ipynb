{
 "cells": [
  {
   "cell_type": "code",
   "execution_count": null,
   "id": "7917c925",
   "metadata": {},
   "outputs": [],
   "source": [
    "# tests/test_graphql.py\n",
    "from fastapi.testclient import TestClient\n",
    "from app.main import app\n",
    "\n",
    "client = TestClient(app)\n",
    "\n",
    "def test_graphql_branches():\n",
    "    query = \"\"\"\n",
    "    query {\n",
    "      branches {\n",
    "        id\n",
    "        ifsc\n",
    "        branch\n",
    "        bank {\n",
    "          id\n",
    "          name\n",
    "        }\n",
    "      }\n",
    "    }\n",
    "    \"\"\"\n",
    "    res = client.post(\"/gql\", json={\"query\": query})\n",
    "    assert res.status_code == 200\n",
    "    data = res.json()\n",
    "    assert \"data\" in data\n",
    "    assert \"branches\" in data[\"data\"]"
   ]
  }
 ],
 "metadata": {
  "kernelspec": {
   "display_name": "Python 3 (ipykernel)",
   "language": "python",
   "name": "python3"
  },
  "language_info": {
   "codemirror_mode": {
    "name": "ipython",
    "version": 3
   },
   "file_extension": ".py",
   "mimetype": "text/x-python",
   "name": "python",
   "nbconvert_exporter": "python",
   "pygments_lexer": "ipython3",
   "version": "3.11.0"
  }
 },
 "nbformat": 4,
 "nbformat_minor": 5
}
