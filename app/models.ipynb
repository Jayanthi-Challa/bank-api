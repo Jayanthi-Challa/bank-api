{
 "cells": [
  {
   "cell_type": "code",
   "execution_count": null,
   "id": "093f5832",
   "metadata": {},
   "outputs": [],
   "source": [
    "# app/models.py\n",
    "from sqlalchemy import Column, Integer, String, ForeignKey, UniqueConstraint\n",
    "from sqlalchemy.orm import relationship\n",
    "from .database import Base\n",
    "\n",
    "class Bank(Base):\n",
    "    __tablename__ = \"banks\"\n",
    "\n",
    "    id = Column(Integer, primary_key=True, index=True)\n",
    "    bank_id = Column(Integer, unique=True, index=True)  # original id from CSV (if present)\n",
    "    name = Column(String, index=True, nullable=False)\n",
    "\n",
    "    branches = relationship(\"Branch\", back_populates=\"bank\", cascade=\"all, delete-orphan\")\n",
    "\n",
    "\n",
    "class Branch(Base):\n",
    "    __tablename__ = \"branches\"\n",
    "    id = Column(Integer, primary_key=True, index=True)\n",
    "    ifsc = Column(String, unique=True, index=True, nullable=False)\n",
    "    branch = Column(String, index=True)\n",
    "    address = Column(String)\n",
    "    city = Column(String, index=True)\n",
    "    district = Column(String, index=True)\n",
    "    state = Column(String, index=True)\n",
    "    bank_id_fk = Column(Integer, ForeignKey(\"banks.id\"), nullable=False)\n",
    "\n",
    "    bank = relationship(\"Bank\", back_populates=\"branches\")\n",
    "\n",
    "    __table_args__ = (\n",
    "        UniqueConstraint(\"ifsc\", name=\"uix_ifsc\"),\n",
    "    )"
   ]
  }
 ],
 "metadata": {
  "kernelspec": {
   "display_name": "Python 3 (ipykernel)",
   "language": "python",
   "name": "python3"
  },
  "language_info": {
   "codemirror_mode": {
    "name": "ipython",
    "version": 3
   },
   "file_extension": ".py",
   "mimetype": "text/x-python",
   "name": "python",
   "nbconvert_exporter": "python",
   "pygments_lexer": "ipython3",
   "version": "3.11.0"
  }
 },
 "nbformat": 4,
 "nbformat_minor": 5
}
