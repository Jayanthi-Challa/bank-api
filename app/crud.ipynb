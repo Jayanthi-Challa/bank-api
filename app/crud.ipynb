{
 "cells": [
  {
   "cell_type": "code",
   "execution_count": null,
   "id": "f9e82c08",
   "metadata": {},
   "outputs": [],
   "source": [
    "# app/crud.py\n",
    "from sqlalchemy.orm import Session\n",
    "from . import models, schemas\n",
    "from typing import List, Optional\n",
    "\n",
    "def get_bank_by_name(db: Session, name: str):\n",
    "    return db.query(models.Bank).filter(models.Bank.name == name).first()\n",
    "\n",
    "def create_bank(db: Session, bank: schemas.BankCreate):\n",
    "    db_bank = models.Bank(name=bank.name, bank_id=bank.bank_id)\n",
    "    db.add(db_bank)\n",
    "    db.commit()\n",
    "    db.refresh(db_bank)\n",
    "    return db_bank\n",
    "\n",
    "def get_banks(db: Session, skip: int = 0, limit: int = 100) -> List[models.Bank]:\n",
    "    return db.query(models.Bank).offset(skip).limit(limit).all()\n",
    "\n",
    "def get_bank(db: Session, bank_id: int):\n",
    "    return db.query(models.Bank).filter(models.Bank.id == bank_id).first()\n",
    "\n",
    "def create_branch(db: Session, branch: schemas.BranchCreate):\n",
    "    db_branch = models.Branch(\n",
    "        ifsc=branch.ifsc,\n",
    "        branch=branch.branch,\n",
    "        address=branch.address,\n",
    "        city=branch.city,\n",
    "        district=branch.district,\n",
    "        state=branch.state,\n",
    "        bank_id_fk=branch.bank_id_fk\n",
    "    )\n",
    "    db.add(db_branch)\n",
    "    db.commit()\n",
    "    db.refresh(db_branch)\n",
    "    return db_branch\n",
    "\n",
    "def get_branch_by_ifsc(db: Session, ifsc: str):\n",
    "    return db.query(models.Branch).filter(models.Branch.ifsc == ifsc).first()\n",
    "\n",
    "def get_branches_for_bank(db: Session, bank_id: int, skip: int = 0, limit: int = 100):\n",
    "    return db.query(models.Branch).filter(models.Branch.bank_id_fk == bank_id).offset(skip).limit(limit).all()"
   ]
  }
 ],
 "metadata": {
  "kernelspec": {
   "display_name": "Python 3 (ipykernel)",
   "language": "python",
   "name": "python3"
  },
  "language_info": {
   "codemirror_mode": {
    "name": "ipython",
    "version": 3
   },
   "file_extension": ".py",
   "mimetype": "text/x-python",
   "name": "python",
   "nbconvert_exporter": "python",
   "pygments_lexer": "ipython3",
   "version": "3.11.0"
  }
 },
 "nbformat": 4,
 "nbformat_minor": 5
}
