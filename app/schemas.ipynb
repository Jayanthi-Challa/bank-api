{
 "cells": [
  {
   "cell_type": "code",
   "execution_count": null,
   "id": "fee04a70",
   "metadata": {},
   "outputs": [],
   "source": [
    "# app/schemas.py\n",
    "from pydantic import BaseModel\n",
    "from typing import Optional, List\n",
    "\n",
    "class BankBase(BaseModel):\n",
    "    name: str\n",
    "\n",
    "class BankCreate(BankBase):\n",
    "    bank_id: Optional[int] = None\n",
    "\n",
    "class Bank(BankBase):\n",
    "    id: int\n",
    "    bank_id: Optional[int]\n",
    "\n",
    "    class Config:\n",
    "        orm_mode = True\n",
    "\n",
    "class BranchBase(BaseModel):\n",
    "    ifsc: str\n",
    "    branch: Optional[str] = None\n",
    "    address: Optional[str] = None\n",
    "    city: Optional[str] = None\n",
    "    district: Optional[str] = None\n",
    "    state: Optional[str] = None\n",
    "\n",
    "class BranchCreate(BranchBase):\n",
    "    bank_id_fk: int\n",
    "\n",
    "class Branch(BranchBase):\n",
    "    id: int\n",
    "    bank: Bank\n",
    "\n",
    "    class Config:\n",
    "        orm_mode = True"
   ]
  }
 ],
 "metadata": {
  "kernelspec": {
   "display_name": "Python 3 (ipykernel)",
   "language": "python",
   "name": "python3"
  },
  "language_info": {
   "codemirror_mode": {
    "name": "ipython",
    "version": 3
   },
   "file_extension": ".py",
   "mimetype": "text/x-python",
   "name": "python",
   "nbconvert_exporter": "python",
   "pygments_lexer": "ipython3",
   "version": "3.11.0"
  }
 },
 "nbformat": 4,
 "nbformat_minor": 5
}
