{
 "cells": [
  {
   "cell_type": "code",
   "execution_count": null,
   "id": "cefd8a72",
   "metadata": {},
   "outputs": [],
   "source": [
    "# app/database.py\n",
    "from sqlalchemy import create_engine\n",
    "from sqlalchemy.orm import sessionmaker, declarative_base\n",
    "\n",
    "SQLALCHEMY_DATABASE_URL = \"sqlite:///./bank.db\"\n",
    "\n",
    "engine = create_engine(SQLALCHEMY_DATABASE_URL, connect_args={\"check_same_thread\": False})\n",
    "SessionLocal = sessionmaker(autocommit=False, autoflush=False, bind=engine)\n",
    "Base = declarative_base()"
   ]
  }
 ],
 "metadata": {
  "kernelspec": {
   "display_name": "Python 3 (ipykernel)",
   "language": "python",
   "name": "python3"
  },
  "language_info": {
   "codemirror_mode": {
    "name": "ipython",
    "version": 3
   },
   "file_extension": ".py",
   "mimetype": "text/x-python",
   "name": "python",
   "nbconvert_exporter": "python",
   "pygments_lexer": "ipython3",
   "version": "3.11.0"
  }
 },
 "nbformat": 4,
 "nbformat_minor": 5
}
