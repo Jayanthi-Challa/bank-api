{
 "cells": [
  {
   "cell_type": "code",
   "execution_count": null,
   "id": "54d6c93d",
   "metadata": {},
   "outputs": [],
   "source": [
    "# app/load_data.py\n",
    "import csv\n",
    "from .database import SessionLocal, engine, Base\n",
    "from . import models, crud, schemas\n",
    "\n",
    "def init_db():\n",
    "    Base.metadata.create_all(bind=engine)\n",
    "\n",
    "def load_csv(path=\"data/bank_branches.csv\"):\n",
    "    db = SessionLocal()\n",
    "    with open(path, newline='', encoding='utf-8') as f:\n",
    "        reader = csv.DictReader(f)\n",
    "        for row in reader:\n",
    "            # adapt these keys depending on CSV columns\n",
    "            bank_name = row.get(\"bank_name\") or row.get(\"bank\")\n",
    "            bank_id = row.get(\"bank_id\")\n",
    "            ifsc = row.get(\"ifsc\")\n",
    "            branch = row.get(\"branch\")\n",
    "            address = row.get(\"address\")\n",
    "            city = row.get(\"city\")\n",
    "            district = row.get(\"district\")\n",
    "            state = row.get(\"state\")\n",
    "\n",
    "            # get-or-create bank\n",
    "            bank = db.query(models.Bank).filter(models.Bank.name == bank_name).first()\n",
    "            if not bank:\n",
    "                bank = models.Bank(name=bank_name, bank_id=int(bank_id) if bank_id else None)\n",
    "                db.add(bank)\n",
    "                db.commit()\n",
    "                db.refresh(bank)\n",
    "            # skip if duplicate IFSC\n",
    "            exists = db.query(models.Branch).filter(models.Branch.ifsc == ifsc).first()\n",
    "            if exists:\n",
    "                continue\n",
    "            branch_obj = models.Branch(\n",
    "                ifsc=ifsc, branch=branch, address=address,\n",
    "                city=city, district=district, state=state,\n",
    "                bank_id_fk=bank.id\n",
    "            )\n",
    "            db.add(branch_obj)\n",
    "        db.commit()\n",
    "    db.close()\n",
    "\n",
    "if __name__ == \"__main__\":\n",
    "    init_db()\n",
    "    load_csv()\n",
    "    print(\"Data loaded.\")"
   ]
  }
 ],
 "metadata": {
  "kernelspec": {
   "display_name": "Python 3 (ipykernel)",
   "language": "python",
   "name": "python3"
  },
  "language_info": {
   "codemirror_mode": {
    "name": "ipython",
    "version": 3
   },
   "file_extension": ".py",
   "mimetype": "text/x-python",
   "name": "python",
   "nbconvert_exporter": "python",
   "pygments_lexer": "ipython3",
   "version": "3.11.0"
  }
 },
 "nbformat": 4,
 "nbformat_minor": 5
}
